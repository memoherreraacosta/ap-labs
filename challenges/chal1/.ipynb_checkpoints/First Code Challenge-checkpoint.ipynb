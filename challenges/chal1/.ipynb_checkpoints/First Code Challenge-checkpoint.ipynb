{
 "cells": [
  {
   "cell_type": "code",
   "execution_count": 2,
   "metadata": {},
   "outputs": [
    {
     "name": "stdout",
     "output_type": "stream",
     "text": [
      "write down the string :\n",
      "\n",
      "bbbbb\n",
      "The answer is -- b -- with the length of 1\n"
     ]
    }
   ],
   "source": [
    "word = input(\"write down the string :\\n\\n\")\n",
    "\n",
    "if(len(word)>0):\n",
    "    substring = list() # Substring \n",
    "    final = set()\n",
    "    fWord = \"\"\n",
    "    \n",
    "    for i in range(0,len(word)):\n",
    "        \n",
    "        substring.append(word[i])\n",
    "\n",
    "        if( i<len(word)-1 and word[i+1] in substring):\n",
    "\n",
    "            for i in substring:\n",
    "                fWord+=i\n",
    "                \n",
    "            final.add(fWord)\n",
    "            substring = list()\n",
    "            fWord = \"\"\n",
    "    \n",
    "    ffWord = max(final, key=len)\n",
    "    print(\"The answer is -- \"+ffWord+\" -- with the length of \"+str(len(ffWord)))\n",
    "  \n",
    "else:\n",
    "    print(\"There is no answer, the word is empty\")\n",
    "    "
   ]
  },
  {
   "cell_type": "code",
   "execution_count": null,
   "metadata": {},
   "outputs": [],
   "source": []
  }
 ],
 "metadata": {
  "kernelspec": {
   "display_name": "Python 3",
   "language": "python",
   "name": "python3"
  },
  "language_info": {
   "codemirror_mode": {
    "name": "ipython",
    "version": 3
   },
   "file_extension": ".py",
   "mimetype": "text/x-python",
   "name": "python",
   "nbconvert_exporter": "python",
   "pygments_lexer": "ipython3",
   "version": "3.7.1"
  }
 },
 "nbformat": 4,
 "nbformat_minor": 2
}
