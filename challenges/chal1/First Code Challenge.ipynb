{
 "cells": [
  {
   "cell_type": "code",
   "execution_count": 32,
   "metadata": {},
   "outputs": [
    {
     "data": {
      "text/plain": [
       "'\\nInstructions: \\n\\nGiven a string, find the length of the longest substring without repeating characters.\\n\\nExample 1:\\n\\nInput: \"abcabcbb\"\\nOutput: 3 \\nExplanation: The answer is \"abc\", with the length of 3. \\n\\n\\nExample 2:\\n\\nInput: \"bbbbb\"\\nOutput: 1\\nExplanation: The answer is \"b\", with the length of 1.\\n\\n\\nExample 3:\\n\\nInput: \"pwwkew\"\\nOutput: 3\\nExplanation: The answer is \"wke\", with the length of 3. \\n    \\n    \\nNote that the answer must be a substring, \"pwke\" is a subsequence and not a substring.\\n'"
      ]
     },
     "execution_count": 32,
     "metadata": {},
     "output_type": "execute_result"
    }
   ],
   "source": [
    "\"\"\"\n",
    "Instructions: \n",
    "\n",
    "Given a string, find the length of the longest substring without repeating characters.\n",
    "\n",
    "Example 1:\n",
    "\n",
    "Input: \"abcabcbb\"\n",
    "Output: 3 \n",
    "Explanation: The answer is \"abc\", with the length of 3. \n",
    "\n",
    "\n",
    "Example 2:\n",
    "\n",
    "Input: \"bbbbb\"\n",
    "Output: 1\n",
    "Explanation: The answer is \"b\", with the length of 1.\n",
    "\n",
    "\n",
    "Example 3:\n",
    "\n",
    "Input: \"pwwkew\"\n",
    "Output: 3\n",
    "Explanation: The answer is \"wke\", with the length of 3. \n",
    "    \n",
    "    \n",
    "Note that the answer must be a substring, \"pwke\" is a subsequence and not a substring.\n",
    "\"\"\""
   ]
  },
  {
   "cell_type": "code",
   "execution_count": 53,
   "metadata": {},
   "outputs": [
    {
     "name": "stdout",
     "output_type": "stream",
     "text": [
      "write down the string :\n",
      "\n",
      "pwwkew\n",
      "The answer is -- wke -- with the length of 3\n"
     ]
    }
   ],
   "source": [
    "word = input(\"write down the string :\\n\\n\")\n",
    "\n",
    "if(len(word)>0):\n",
    "    substring = list() # Substring \n",
    "    final = set()\n",
    "    fWord = \"\"\n",
    "    \n",
    "    for i in range(0,len(word)):\n",
    "        \n",
    "        substring.append(word[i])\n",
    "\n",
    "        if( i<len(word)-1 and word[i+1] in substring):\n",
    "\n",
    "            for i in substring:\n",
    "                fWord+=i\n",
    "                \n",
    "            final.add(fWord)\n",
    "            substring = list()\n",
    "            fWord = \"\"\n",
    "    \n",
    "    ffWord = max(final, key=len)\n",
    "    print(\"The answer is -- \"+ffWord+\" -- with the length of \"+str(len(ffWord)))\n",
    "  \n",
    "else:\n",
    "    print(\"There is no answer, the word is empty\")\n",
    "    "
   ]
  }
 ],
 "metadata": {
  "kernelspec": {
   "display_name": "Python 3",
   "language": "python",
   "name": "python3"
  },
  "language_info": {
   "codemirror_mode": {
    "name": "ipython",
    "version": 3
   },
   "file_extension": ".py",
   "mimetype": "text/x-python",
   "name": "python",
   "nbconvert_exporter": "python",
   "pygments_lexer": "ipython3",
   "version": "3.7.1"
  }
 },
 "nbformat": 4,
 "nbformat_minor": 2
}
